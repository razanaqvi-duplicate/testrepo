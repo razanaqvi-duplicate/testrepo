{
 "cells": [
  {
   "cell_type": "markdown",
   "id": "7e7be2e9-8283-47e8-bded-3191288953b1",
   "metadata": {
    "tags": []
   },
   "source": [
    "# Data Science Tools and Ecosystem"
   ]
  },
  {
   "cell_type": "markdown",
   "id": "9fbfeb76-94bf-41e9-90ea-24fc095c8d8e",
   "metadata": {},
   "source": [
    "In this notebook, Data Science Tools and Ecosystem are summarized"
   ]
  },
  {
   "cell_type": "markdown",
   "id": "d18d6d64-61d2-4e9d-b84c-e0148e8abdee",
   "metadata": {
    "tags": []
   },
   "source": [
    "**Objectives:**\n",
    "- List popular languages for Data Science\n",
    "- List some of the common libraries used by Data Scientists\n",
    "- Learn about some tools used by Data Scientists\n",
    "- Get familiar with using Jupyter Notebooks and RStudio\n",
    "- Gain some knowledge about source codde management using github"
   ]
  },
  {
   "cell_type": "markdown",
   "id": "b259a36d-cbab-4e7f-874b-b84428aef66f",
   "metadata": {
    "tags": []
   },
   "source": [
    "Some of the popular languages that Data Scientists use are:\n",
    "1. Python\n",
    "2. R\n",
    "3. SQL\n",
    "4. Scala\n",
    "5. Julia"
   ]
  },
  {
   "cell_type": "markdown",
   "id": "8b7c2aaa-d04b-4786-83bc-22a774e35f80",
   "metadata": {},
   "source": [
    "Some of the commonly used libraries used by Data Scientists include:\n",
    "1. pandas\n",
    "2. Scikit-learn\n",
    "3. Matplotlib\n",
    "4. ggplot"
   ]
  },
  {
   "cell_type": "markdown",
   "id": "1a9b15d5-2056-459b-89a5-7fda77f29a49",
   "metadata": {
    "tags": []
   },
   "source": [
    "| Data Science Tools |\n",
    "|---|\n",
    "| JupyterLab |\n",
    "| RStudio |\n",
    "| Apache Spark |\n",
    "| KNIME |\n",
    "| Orange |"
   ]
  },
  {
   "cell_type": "markdown",
   "id": "692f7c2e-e917-4b44-ad83-daf6d1029b68",
   "metadata": {
    "tags": []
   },
   "source": [
    "### Below are a few examples of evaluating arithmetic expressions in Python"
   ]
  },
  {
   "cell_type": "code",
   "execution_count": 14,
   "id": "b652a1f0-5211-4ddc-8ba7-34ed8c884c77",
   "metadata": {
    "tags": []
   },
   "outputs": [
    {
     "data": {
      "text/plain": [
       "5"
      ]
     },
     "execution_count": 14,
     "metadata": {},
     "output_type": "execute_result"
    }
   ],
   "source": [
    "2+3\n"
   ]
  },
  {
   "cell_type": "code",
   "execution_count": 15,
   "id": "bfa61731-3134-4c1f-9dad-c18d7a01ff65",
   "metadata": {
    "tags": []
   },
   "outputs": [
    {
     "data": {
      "text/plain": [
       "35"
      ]
     },
     "execution_count": 15,
     "metadata": {},
     "output_type": "execute_result"
    }
   ],
   "source": [
    "(10-3)*5"
   ]
  },
  {
   "cell_type": "code",
   "execution_count": 16,
   "id": "1e1244f0-9851-4897-81c6-c9fdd2421da7",
   "metadata": {
    "tags": []
   },
   "outputs": [
    {
     "data": {
      "text/plain": [
       "15"
      ]
     },
     "execution_count": 16,
     "metadata": {},
     "output_type": "execute_result"
    }
   ],
   "source": [
    "x=6\n",
    "y=9\n",
    "x+y"
   ]
  },
  {
   "cell_type": "markdown",
   "id": "0a8c5a52-f7ac-45b4-bdc3-64c5251a116d",
   "metadata": {},
   "source": [
    "This a simple arithmetic expression to mutiply then add integers\n"
   ]
  },
  {
   "cell_type": "code",
   "execution_count": 17,
   "id": "785d5352-eb4d-4bb3-b658-40e772a4d651",
   "metadata": {
    "tags": []
   },
   "outputs": [
    {
     "data": {
      "text/plain": [
       "17"
      ]
     },
     "execution_count": 17,
     "metadata": {},
     "output_type": "execute_result"
    }
   ],
   "source": [
    "(3*4)+5"
   ]
  },
  {
   "cell_type": "markdown",
   "id": "bdee7d8e-c4ed-4881-8770-4d8ead18810d",
   "metadata": {},
   "source": [
    "This will convert 200 minutes to hours by diving by 60"
   ]
  },
  {
   "cell_type": "code",
   "execution_count": 18,
   "id": "baebb076-cd7a-4b8b-a907-8df7bebbfff0",
   "metadata": {
    "tags": []
   },
   "outputs": [
    {
     "data": {
      "text/plain": [
       "3.3333333333333335"
      ]
     },
     "execution_count": 18,
     "metadata": {},
     "output_type": "execute_result"
    }
   ],
   "source": [
    "200/60"
   ]
  },
  {
   "cell_type": "markdown",
   "id": "8b59b546-bb54-409f-bfb4-d84212f044f8",
   "metadata": {},
   "source": [
    "## Author"
   ]
  },
  {
   "cell_type": "markdown",
   "id": "f855f3e8-1496-4850-9f8e-7efbf22151b3",
   "metadata": {},
   "source": [
    "Raza Naqvi"
   ]
  },
  {
   "cell_type": "code",
   "execution_count": null,
   "id": "c1f66340-c96c-4b3b-85cc-922e43f753dc",
   "metadata": {},
   "outputs": [],
   "source": []
  }
 ],
 "metadata": {
  "kernelspec": {
   "display_name": "Python 3 (ipykernel)",
   "language": "python",
   "name": "python3"
  },
  "language_info": {
   "codemirror_mode": {
    "name": "ipython",
    "version": 3
   },
   "file_extension": ".py",
   "mimetype": "text/x-python",
   "name": "python",
   "nbconvert_exporter": "python",
   "pygments_lexer": "ipython3",
   "version": "3.11.5"
  }
 },
 "nbformat": 4,
 "nbformat_minor": 5
}
